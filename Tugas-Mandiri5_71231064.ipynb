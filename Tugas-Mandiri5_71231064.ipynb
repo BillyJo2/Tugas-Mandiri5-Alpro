{
 "cells": [
  {
   "cell_type": "code",
   "execution_count": 2,
   "id": "348c2b74",
   "metadata": {},
   "outputs": [
    {
     "name": "stdout",
     "output_type": "stream",
     "text": [
      "30\n",
      "70\n"
     ]
    }
   ],
   "source": [
    "def perkalian(a, b):\n",
    "    hasil = 0\n",
    "    for i in range(b):\n",
    "        hasil += a\n",
    "    return hasil\n",
    "\n",
    "\n",
    "print(perkalian(6, 5))  \n",
    "print(perkalian(7, 10))\n"
   ]
  },
  {
   "cell_type": "code",
   "execution_count": 7,
   "id": "1866c385",
   "metadata": {},
   "outputs": [
    {
     "name": "stdout",
     "output_type": "stream",
     "text": [
      "[11, 13, 15, 17, 19, 21, 23, 25, 27, 29]\n",
      "[97, 95, 93, 91, 89, 87, 85, 83]\n"
     ]
    }
   ],
   "source": [
    "def ganjil(bawah, atas):\n",
    "    if bawah < atas:\n",
    "        return [i for i in range(bawah, atas + 1) if i % 2 != 0]\n",
    "    else:\n",
    "        return [i for i in range(bawah, atas - 1, -1) if i % 2 != 0]\n",
    "\n",
    "print(ganjil(10, 30)) # Output: [11, 13, 15, 17, 19, 21, 23, 25, 27, 29]\n",
    "print(ganjil(97, 82)) # Output: [97, 95, 93, 91, 89, 87, 85, 83]\n"
   ]
  },
  {
   "cell_type": "code",
   "execution_count": 15,
   "id": "c8f95c20",
   "metadata": {},
   "outputs": [
    {
     "name": "stdout",
     "output_type": "stream",
     "text": [
      "Program penghitung IPS Mahasiswa\n",
      "Berapa jumlah mata kuliah? 6\n",
      "Nilai MK1 : A\n",
      "Nilai MK2 : B\n",
      "Nilai MK3 : C\n",
      "Nilai MK4 : A\n",
      "Nilai MK5 : D\n",
      "Nilai MK6 : C\n",
      "Nilai IPS anda semester ini: 2.67\n"
     ]
    }
   ],
   "source": [
    "print(\"Program penghitung IPS Mahasiswa\")\n",
    "jumlah_mk = int(input(\"Berapa jumlah mata kuliah? \"))\n",
    "nilai_mk = {'A': 4, 'B': 3, 'C': 2, 'D': 1, 'E': 0}\n",
    "total_nilai = 0\n",
    "\n",
    "for i in range(1, jumlah_mk + 1):\n",
    "    nilai = input(f\"Nilai MK{i} : \").upper()\n",
    "    total_nilai += nilai_mk[nilai]\n",
    "\n",
    "ips = total_nilai / jumlah_mk\n",
    "print(f\"Nilai IPS anda semester ini: {ips:.2f}\")\n"
   ]
  },
  {
   "cell_type": "code",
   "execution_count": null,
   "id": "3f8c2279",
   "metadata": {},
   "outputs": [],
   "source": []
  }
 ],
 "metadata": {
  "kernelspec": {
   "display_name": "Python 3 (ipykernel)",
   "language": "python",
   "name": "python3"
  },
  "language_info": {
   "codemirror_mode": {
    "name": "ipython",
    "version": 3
   },
   "file_extension": ".py",
   "mimetype": "text/x-python",
   "name": "python",
   "nbconvert_exporter": "python",
   "pygments_lexer": "ipython3",
   "version": "3.11.5"
  }
 },
 "nbformat": 4,
 "nbformat_minor": 5
}
